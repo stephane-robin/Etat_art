{
 "cells": [
  {
   "cell_type": "markdown",
   "metadata": {},
   "source": [
    "<img src=\"femto.png\" alt=\"femto\" align=\"left\"/>"
   ]
  },
  {
   "cell_type": "markdown",
   "metadata": {},
   "source": [
    "<h1 style=\"text-align:right\">CRISPRbuilder-TB</h1>"
   ]
  },
  {
   "cell_type": "markdown",
   "metadata": {},
   "source": [
    "<p><br/><br/></p>"
   ]
  },
  {
   "cell_type": "markdown",
   "metadata": {},
   "source": [
    "The CRISPRbuilder-TB package is an open source software made available under generous terms. Please see the LICENSE file for further details.\n",
    "\n",
    "If you use CRISPRbuilder-TB in work contributing to a scientific publication, we ask that you cite the following application note: Université de Franche Comté TODO<br/>"
   ]
  },
  {
   "cell_type": "markdown",
   "metadata": {},
   "source": [
    "<h2 style=\"color:#009973\"> What should CRIPSPRbuilder-TB be used for ?</h2>"
   ]
  },
  {
   "cell_type": "markdown",
   "metadata": {},
   "source": [
    "CRISPRbuilder-TB will help you collect and annotate Mycobacterium tuberculosis whole genome sequencing data for CRISPR investigations. Given a SRA reference, the package will provide information regarding:\n",
    "<ul>\n",
    "    <li>the number of reads for the study</li>\n",
    "    <li>the length of those reads</li>\n",
    "    <li>the cowerage of the study</li>\n",
    "    <li>the source of publication for the SRA reference</li>\n",
    "    <li>the authors who discovered it</li>\n",
    "    <li>the study accession number,</li>\n",
    "    <li>the location of discovery,</li>\n",
    "    <li>the date of discovery,</li>\n",
    "    <li>the center that discovered the SRA,</li>\n",
    "    <li>the strain for the SRA,</li>\n",
    "    <li>the taxid,</li>\n",
    "    <li>the name of the SRA,</li>\n",
    "    <li>the reference of the study</li>\n",
    "    <li>the bioproject number</li>\n",
    "    <li>the spoligotypes,</li>\n",
    "    <li>the spoligotypes new version,</li>\n",
    "    <li>the spoligotype numbers,</li>\n",
    "    <li>the spoligotype new version numbers,</li>\n",
    "    <li>the spoligotypes vitro,</li>\n",
    "    <li>the spoligotypes vitro new version,</li>\n",
    "    <li>the spoligotypes vitro numbers,</li>\n",
    "    <li>the spoligotypes vitro new version numbers,</li>\n",
    "    <li>the Spoligotype International Type,</li>\n",
    "    <li>the Spoligotype International Type silico,</li>\n",
    "    <li>the affiliation to lineage L6+animal,</li>\n",
    "    <li>the affiliation to lineage PGG-cp,</li>\n",
    "    <li>the affiliation to lineage PGG,</li>\n",
    "    <li>the affiliation to lineage Coll,</li>\n",
    "    <li>the affiliation to lineage Pali,</li>\n",
    "    <li>the affiliation to lineage Shitikov</li>\n",
    "    <li>the affiliation to lineage Stucki</li>\n",
    "</ul>"
   ]
  },
  {
   "cell_type": "markdown",
   "metadata": {},
   "source": [
    "<h2 style=\"color:#009973\">How to install the package ?</h2>"
   ]
  },
  {
   "cell_type": "markdown",
   "metadata": {},
   "source": [
    "This package comes with a Command Line Interface, so it should be installed and executed using your conmmand prompt. For Linux, MacOS or Windows platforms, the installation requires the same command line:"
   ]
  },
  {
   "cell_type": "markdown",
   "metadata": {},
   "source": [
    "<pre style=\"background-color:#b8b894\">pip3 install CRISPRbuilder-TB</pre>"
   ]
  },
  {
   "cell_type": "markdown",
   "metadata": {},
   "source": [
    "<h2 style=\"color:#009973\">How to use the Command Line Interface ?</h2>"
   ]
  },
  {
   "cell_type": "markdown",
   "metadata": {},
   "source": [
    "After installing the package, you can find help with the command prompt, listing the different available options, such as <strong>--collect, --list, --add, --print, --remove, --change,</strong> and their expected syntax."
   ]
  },
  {
   "cell_type": "markdown",
   "metadata": {},
   "source": [
    "<pre style=\"background-color:#b8b894\">python3 main.py --help\n",
    "usage: CRISPRbuilder-TB [-h] [--collect] [--list] [--add] [--remove] [--change] [--print] sra\n",
    "\n",
    "Collects and annotates Mycobacterium tuberculosis data for CRISPR investigation.\n",
    "\n",
    "positional arguments:\n",
    "  sra         requires the reference of a SRA, the path to a file of SRA references or 0. See doc.\n",
    "\n",
    "optional arguments:\n",
    "  -h, --help  show this help message and exit\n",
    "  --collect   collects the reference of a SRA to get information about this SRA. See doc.\n",
    "  --list      collects the path to a file of SRA references to get information about. See doc.\n",
    "  --add       collects data to add to the file data/lineage.csv. Requires 0 as argument. See doc.\n",
    "  --remove    removes data from the file data/lineage.csv. Requires 0 as argument. See doc.\n",
    "  --change    collects data to update the file data/lineage.csv. Requires 0 as argument. See doc.\n",
    "  --print     prints the file data/lineage.csv. Requires 0 as argument. See doc.\n",
    "</pre>"
   ]
  },
  {
   "cell_type": "markdown",
   "metadata": {},
   "source": [
    "<h3>Execute CRISPRbuilder-TB with a SRA reference</h3>"
   ]
  },
  {
   "cell_type": "markdown",
   "metadata": {},
   "source": [
    "You can run the package if you wish to find information regarding a specific SRA, using the following command line :"
   ]
  },
  {
   "cell_type": "markdown",
   "metadata": {},
   "source": [
    "<pre style=\"background-color:#b8b894\">python3 main.py --collect {SRA_reference}</pre>"
   ]
  },
  {
   "cell_type": "markdown",
   "metadata": {},
   "source": [
    "This package uses the included version 3.6.4 of Python, which is why it is necessary to precise python3 in the command line, in case the default version on your computer would be 2.7."
   ]
  },
  {
   "cell_type": "markdown",
   "metadata": {},
   "source": [
    "Exemple: to find information about SRR8368696"
   ]
  },
  {
   "cell_type": "markdown",
   "metadata": {},
   "source": [
    "<pre style=\"background-color:#b8b894\">python3 main.py --collect SRR8368696</pre>"
   ]
  },
  {
   "cell_type": "markdown",
   "metadata": {},
   "source": [
    "<h3>Execute CRISPRbuilder-TB with a list of SRA references</h3>"
   ]
  },
  {
   "cell_type": "markdown",
   "metadata": {},
   "source": [
    "To run the package with a list of SRA references, this list must be composed of one SRA reference per line in a .txt format file. Then, if you wish to find information regarding a list of specific SRAs, you may use the following command line :"
   ]
  },
  {
   "cell_type": "markdown",
   "metadata": {},
   "source": [
    "<pre style=\"background-color:#b8b894\">python3 main.py --list {path_to_the_file}</pre>"
   ]
  },
  {
   "cell_type": "markdown",
   "metadata": {},
   "source": [
    "Exemple: to find information about the different SRA included in the file <em>my_file.txt</em> from the <em>Documents</em> directory."
   ]
  },
  {
   "cell_type": "markdown",
   "metadata": {},
   "source": [
    "<pre style=\"background-color:#b8b894\">python3 main.py --list /Documents/my_file.txt</pre>"
   ]
  },
  {
   "cell_type": "markdown",
   "metadata": {},
   "source": [
    "<h3>Print the database lineage.csv</h3>"
   ]
  },
  {
   "cell_type": "markdown",
   "metadata": {},
   "source": [
    "<pre style=\"background-color:#b8b894\">python3 main.py --print 0</pre>"
   ]
  },
  {
   "cell_type": "markdown",
   "metadata": {},
   "source": [
    "Caution: it is necessary to add the 0 after <strong>--print</strong>.\n",
    "\n",
    "The command prompt will then display the content of the database <strong>lineage.csv</strong>:"
   ]
  },
  {
   "cell_type": "markdown",
   "metadata": {},
   "source": [
    "<pre style=\"background-color:#b8b894\">lineage, Position, Gene coord., Allele change, Codon number, Codon change, Amino acid change, Locus Id, Gene name, Gene type, Type of mutation, 5' gene, 3' gene, Strand, Sublineage surname, Essential, Origin,\n",
    "4.1.1, 3798451, , C/G, , GGG/GGC, G/G, Rv3383c, idsB, non essential, syn, 3797437, 398489, -, X, , Stucki et al.,\n",
    "4.1.2, 3013784, , C/G, , GTC/CTC, V/L, Rv2697c, dut, ess, non-syn, 3013683, 3014147, -, Haarlem, , Stucki et al.,\n",
    "4.1.3, 4409231, , T/G, , GAG/GCG, E/A, Rv3921c, -, ess, 4280033, 4408969, 4410069, -, Ghana, , Stucki et al.,\n",
    "4.2, 2181026, , G/C, , CCC/CCG, P/P, Rv1928c, , non essential, syn, 2180450, 2181217, -, -, , Stucki et al., \n",
    "4.3, 1480024, , G/T, , TTC/TTA, F/L, Rv1318c, , non essential, non-syn, 1479199, 1480824, -, LAM, , Stucki et al.,\n",
    "4.4, 3966059, , G/C, , ACG/AGG, T/R, Rv3529c, -, non essential, non-syn, 3965884, 3967038, -, -, , Stucki et al.,</pre>"
   ]
  },
  {
   "cell_type": "markdown",
   "metadata": {},
   "source": [
    "<h3>Add a record to lineage.csv</h3>"
   ]
  },
  {
   "cell_type": "markdown",
   "metadata": {},
   "source": [
    "<pre style=\"background-color:#b8b894\">python3 main.py --add 0</pre>"
   ]
  },
  {
   "cell_type": "markdown",
   "metadata": {},
   "source": [
    "Caution: it is necessary to add the 0 after <strong>--add</strong>.\n",
    "\n",
    "You will then be asked the values of the different fields (lineage, position, gene coordinates, allege change, codon number, codon change, amino acide change, locus ID, gene name, gene type, type of mutation, 5' gene, 3' gene, strand, sublineage surname, essential, origin of the study). In case you don't know the value of a particular field, just press enter."
   ]
  },
  {
   "cell_type": "markdown",
   "metadata": {},
   "source": [
    "<h3>Remove a record from lineage.csv</h3>"
   ]
  },
  {
   "cell_type": "markdown",
   "metadata": {},
   "source": [
    "<pre style=\"background-color:#b8b894\">python3 main.py --remove 0</pre>"
   ]
  },
  {
   "cell_type": "markdown",
   "metadata": {},
   "source": [
    "Caution: it is necessary to add the 0 after <strong>--remove</strong>.\n",
    "\n",
    "You will then be asked the reference of the line you wish to delete, which consists of the lineage and the position (see below)."
   ]
  },
  {
   "cell_type": "markdown",
   "metadata": {},
   "source": [
    "<pre style=\"background-color:#b8b894\">lineage, Position, Gene coord., Allele change, Codon number, Codon change, Amino acid change, Locus Id, Gene name, Gene type, Type of mutation, 5' gene, 3' gene, Strand, Sublineage surname, Essential, Origin,\n",
    "4.1.1, 3798451, , C/G, , GGG/GGC, G/G, Rv3383c, idsB, non essential, syn, 3797437, 398489, -, X, , Stucki et al.,\n",
    "4.1.2, 3013784, , C/G, , GTC/CTC, V/L, Rv2697c, dut, ess, non-syn, 3013683, 3014147, -, Haarlem, , Stucki et al.,\n",
    "4.1.3, 4409231, , T/G, , GAG/GCG, E/A, Rv3921c, -, ess, 4280033, 4408969, 4410069, -, Ghana, , Stucki et al.,\n",
    "4.2, 2181026, , G/C, , CCC/CCG, P/P, Rv1928c, , non essential, syn, 2180450, 2181217, -, -, , Stucki et al., \n",
    "4.3, 1480024, , G/T, , TTC/TTA, F/L, Rv1318c, , non essential, non-syn, 1479199, 1480824, -, LAM, , Stucki et al.,\n",
    "4.4, 3966059, , G/C, , ACG/AGG, T/R, Rv3529c, -, non essential, non-syn, 3965884, 3967038, -, -, , Stucki et al.,</pre>"
   ]
  },
  {
   "cell_type": "markdown",
   "metadata": {},
   "source": [
    "<h3>Change a record from lineage.csv</h3>"
   ]
  },
  {
   "cell_type": "markdown",
   "metadata": {},
   "source": [
    "<pre style=\"background-color:#b8b894\">python3 main.py --change 0</pre>"
   ]
  },
  {
   "cell_type": "markdown",
   "metadata": {},
   "source": [
    "Caution: it is necessary to add the 0 after <strong>--change</strong>.\n",
    "\n",
    "You will then be asked the reference of the line you wish to delete, which consists of the lineage and the position (see below)."
   ]
  },
  {
   "cell_type": "markdown",
   "metadata": {},
   "source": [
    "<pre style=\"background-color:#b8b894\">lineage, Position, Gene coord., Allele change, Codon number, Codon change, Amino acid change, Locus Id, Gene name, Gene type, Type of mutation, 5' gene, 3' gene, Strand, Sublineage surname, Essential, Origin,\n",
    "4.1.1, 3798451, , C/G, , GGG/GGC, G/G, Rv3383c, idsB, non essential, syn, 3797437, 398489, -, X, , Stucki et al.,\n",
    "4.1.2, 3013784, , C/G, , GTC/CTC, V/L, Rv2697c, dut, ess, non-syn, 3013683, 3014147, -, Haarlem, , Stucki et al.,\n",
    "4.1.3, 4409231, , T/G, , GAG/GCG, E/A, Rv3921c, -, ess, 4280033, 4408969, 4410069, -, Ghana, , Stucki et al.,\n",
    "4.2, 2181026, , G/C, , CCC/CCG, P/P, Rv1928c, , non essential, syn, 2180450, 2181217, -, -, , Stucki et al., \n",
    "4.3, 1480024, , G/T, , TTC/TTA, F/L, Rv1318c, , non essential, non-syn, 1479199, 1480824, -, LAM, , Stucki et al.,\n",
    "4.4, 3966059, , G/C, , ACG/AGG, T/R, Rv3529c, -, non essential, non-syn, 3965884, 3967038, -, -, , Stucki et al.,</pre>"
   ]
  },
  {
   "cell_type": "markdown",
   "metadata": {},
   "source": [
    "You will then be asked the values of the different fields: lineage, position, gene coordinates, allege change, codon number, codon change, amino acide change, locus ID, gene name, gene type, type of mutation, 5' gene, 3' gene, strand, sublineage surname, essential, origin of the study. In case you don't know the value of a particular field, just press enter."
   ]
  },
  {
   "cell_type": "markdown",
   "metadata": {},
   "source": [
    "<h2 style=\"color:#009973\">Composition of the package and dependencies</h2>"
   ]
  },
  {
   "cell_type": "markdown",
   "metadata": {},
   "source": [
    "CRISPRbuilder-TB needs the following dependencies to work:\n",
    "<ul>\n",
    "    <li>python = \"^3.7\"</li>\n",
    "    <li>xlrd = \"^1.2.0\"</li>\n",
    "    <li>openpyxl = \"^3.0.3\"</li>\n",
    "    <li>xmltodict = \"^0.12.0\"</li>\n",
    "    <li>biopython = \"^1.76\"</li>\n",
    "    <li>datetime = \"^4.3\"</li>\n",
    "    <li>parallel-fastq-dump</li>\n",
    "    <li>balstn+</li>\n",
    "</ul>\n",
    "These different versions are automatically downloaded when installing the CRISPRbuilder-TB package."
   ]
  },
  {
   "cell_type": "markdown",
   "metadata": {},
   "source": [
    "The package structure is the following:"
   ]
  },
  {
   "cell_type": "code",
   "execution_count": 2,
   "metadata": {},
   "outputs": [
    {
     "ename": "SyntaxError",
     "evalue": "invalid syntax (<ipython-input-2-b8de24992fb3>, line 1)",
     "output_type": "error",
     "traceback": [
      "\u001b[0;36m  File \u001b[0;32m\"<ipython-input-2-b8de24992fb3>\"\u001b[0;36m, line \u001b[0;32m1\u001b[0m\n\u001b[0;31m    <img src=\"tree.png\" alt=\"femto\" align=\"center\"/>\u001b[0m\n\u001b[0m    ^\u001b[0m\n\u001b[0;31mSyntaxError\u001b[0m\u001b[0;31m:\u001b[0m invalid syntax\n"
     ]
    }
   ],
   "source": [
    "<img src=\"tree.png\" alt=\"femto\" align=\"center\"/>"
   ]
  },
  {
   "cell_type": "markdown",
   "metadata": {},
   "source": [
    "The README.md file explains how to install the package for those who need just the essential.<br/>\n",
    "The \\_\\_main\\_\\_.py file contains the actual code for the package.<br/>\n",
    "The data directory contains the necessary database to compare with the SRA reference when the code is executed.<br/>\n",
    "The REP/sequences directory contains the different result database for each execution of the code. That's typically where you can find fasta format files regarding a specific SRA you've asked for.<br/>\n",
    "The copiright conditions for this package are included in the LICENSE file. "
   ]
  },
  {
   "cell_type": "markdown",
   "metadata": {},
   "source": [
    "<h2 style=\"color:#009973\">Retrieving the genome information dictionary</h2>"
   ]
  },
  {
   "cell_type": "markdown",
   "metadata": {},
   "source": [
    "<h2 style=\"color:#009973\">Breaking down the code</h2>"
   ]
  },
  {
   "cell_type": "markdown",
   "metadata": {},
   "source": [
    "Supposing you're looking for information regarding ERR2704808. After writing python3 CRISPRbuilder-TB --collect ERR2704808 in the shell, a directory called ERR2704808 will be created in REP/sequences and the item ERR2704808 will be added to the database. Then the files in fasta format will be downloaded in REP/sequences/ERR2704808 as in the following code:"
   ]
  },
  {
   "cell_type": "code",
   "execution_count": null,
   "metadata": {},
   "outputs": [],
   "source": [
    "if len([u for u in listdir(rep) if 'fasta' in u]) == 0:\n",
    "    print(\"We're downloading the files in fasta format\")\n",
    "\n",
    "    completed = subprocess.run(['parallel-fastq-dump', '-t', '8', '--split-files', '--fasta', '-O', P_REP, '-s', item])\n",
    "        \n",
    "    # if the download worked\n",
    "    if completed.returncode == 0:\n",
    "        print(\"fasta files successfully downloaded.\")\n",
    "        for k in listdir(P_REP):\n",
    "            if k.endswith('.fasta'):\n",
    "                p = str(PurePath('REP', 'sequences', item, k))\n",
    "                p_k = str(PurePath('REP', k))\n",
    "                move(p_k, p)"
   ]
  },
  {
   "cell_type": "markdown",
   "metadata": {},
   "source": [
    "The ERR2704808_1.fasta and ERR2704808_2.fasta files will then be mixed in a new ERR2704808_shuffled.fasta file as in the following code:"
   ]
  },
  {
   "cell_type": "code",
   "execution_count": null,
   "metadata": {},
   "outputs": [],
   "source": [
    "print(\"We're mixing both fasta files, which correspond to the two splits ends.\")\n",
    "\n",
    "if name == 'posix':\n",
    "    for fic in ['_1', '_2']:\n",
    "        system(\"sed -i 's/\" + item + './' + item + fic + \"./g' REP/sequences/\" + item + \"/\" + item + fic + '.fasta')\n",
    "    system(\"cat REP/sequences/\" + item + \"/\" + item + \"_1.fasta \" + \"REP/sequences/\" + item + \"/\" + item + \"_2.fasta > REP/sequences/\" + item + \"/\" + item + \"_shuffled.fasta\")"
   ]
  },
  {
   "cell_type": "markdown",
   "metadata": {},
   "source": [
    "The number of '>' in ERR2704808_shuffled.fasta, representing the number of reads, is being counted and assigned to nb, as in the following code:"
   ]
  },
  {
   "cell_type": "code",
   "execution_count": null,
   "metadata": {},
   "outputs": [],
   "source": [
    "if 'nb_reads' not in dico_afr[item] or dico_afr[item]['nb_reads'] == '':\n",
    "    if name == 'posix':\n",
    "        system(\"cat REP/sequences/\" + item + \"/\" + item + \"_shuffled.fasta | grep '>' | wc -l > /tmp/nb.txt\")\n",
    "    nb = eval(open(P_TXT).read().split('\\n')[0])"
   ]
  },
  {
   "cell_type": "markdown",
   "metadata": {},
   "source": [
    "The length of the reads is also being updated, as in the following code:"
   ]
  },
  {
   "cell_type": "code",
   "execution_count": null,
   "metadata": {},
   "outputs": [],
   "source": [
    "if 'len_reads' not in dico_afr[item]:\n",
    "    len_nb = len(''.join(open(p_shuffled).read(10000).split('>')[1].split('\\n')[1:]))"
   ]
  },
  {
   "cell_type": "markdown",
   "metadata": {},
   "source": [
    "Then, a database for blast called ERR2704808 is being created in REP/sequences/ERR2704808/ERR2704808, as in the code:"
   ]
  },
  {
   "cell_type": "code",
   "execution_count": null,
   "metadata": {},
   "outputs": [],
   "source": [
    "if item+'.nal' not in listdir(rep) and item+'.nin' not in listdir(rep):\n",
    "    print(\"We're creating a database for Blast\")\n",
    "    completed = subprocess.run(['makeblastdb', '-in', p_shuffled, '-dbtype', 'nucl', '-title', item, '-out', repitem])"
   ]
  },
  {
   "cell_type": "markdown",
   "metadata": {},
   "source": [
    "Sequences from the fasta files are added and the spoligotypes are being blasted, as in the code:"
   ]
  },
  {
   "cell_type": "code",
   "execution_count": null,
   "metadata": {},
   "outputs": [],
   "source": [
    " if 'spoligo' not in dico_afr[item] or dico_afr[item]['spoligo'] == '':\n",
    "        print(f\"The spoligotypes are being blasted\")\n",
    "\n",
    "        p_spoligo_old = str(PurePath('data', 'spoligo_old.fasta'))\n",
    "        p_spoligo_new = str(PurePath('data', 'spoligo_new.fasta'))\n",
    "        p_old_blast = str(PurePath('/tmp/' + item + \"_old.blast\"))\n",
    "        p_new_blast = str(PurePath('/tmp/' + item + \"_new.blast\"))\n",
    "\n",
    "        completed = subprocess.run(\"blastn -num_threads 12 -query \" + p_spoligo_old + \" -evalue 1e-6 -task blastn -db \" + repitem + \" -outfmt '10 qseqid sseqid sstart send qlen length score evalue' -out \" + p_old_blast, shell=True)\n",
    "\n",
    "        completed = subprocess.run(\"blastn -num_threads 12 -query \" + p_spoligo_new + \" -evalue 1e-6 -task blastn -db \" + repitem + \" -outfmt '10 qseqid sseqid sstart send qlen length score evalue' -out \" + p_new_blast, shell=True)\n",
    "\n",
    "        for pos, spol in enumerate(['old', 'new']):\n",
    "            p_blast = str(PurePath('/tmp/' + item + '_' + spol + '.blast'))\n",
    "            p_fasta = str(PurePath('data', 'spoligo_' + spol + '.fasta'))\n",
    "\n",
    "            with open(p_blast) as f:\n",
    "                matches = f.read()\n",
    "                nb = open(p_fasta).read().count('>')\n",
    "                for k in range(1, nb + 1):\n",
    "                    if matches.count('espaceur' + spol.capitalize() + str(k) + ',') >= 5:\n",
    "                        dico_afr[item]['spoligo' + ['', '_new'][pos]] += '\\u25A0'\n",
    "                    else:\n",
    "                            dico_afr[item]['spoligo' + ['', '_new'][pos]] += '\\u25A1'\n",
    "\n",
    "            dico_afr[item]['spoligo' + ['', '_new'][pos] + '_nb'] = [matches.count('espaceur' + spol.capitalize() + str(k) + ',') for k in range(1, nb + 1)]"
   ]
  },
  {
   "cell_type": "markdown",
   "metadata": {},
   "source": [
    "Applying this code, the programm displays the following information:"
   ]
  },
  {
   "cell_type": "markdown",
   "metadata": {},
   "source": [
    "<pre style=\"background-color:#b8b894\">spoligo: ■□□■■■■□□□□□■■■■■■■■□□□□■■■□□■■■■■■■□□□■■■■\n",
    "\n",
    "spoligo_nb: [294, 0, 0, 283, 316, 284, 298, 0, 0, 0, 0, 0, 290, 331, 304, 324, 279, 259, 284, 357, 0, 0, 0, 0, 500, 296, 315, 0, 0, 351, 273, 312, 341, 299, 309, 339, 0, 0, 0, 230, 254, 277, 294]\n",
    "\n",
    "spoligo_new: ■■□□■■■■■■■■■■■■□□□□□□■■■■■■■■□□□□■■■□□■■■■■■■■■■■□□□□□□□□□□■■■■■■■■□□□□□□□□□□□□□□□□□□□□□□□□□□□□□□\n",
    "\n",
    "spoligo_new_nb: [295, 294, 0, 0, 258, 309, 359, 321, 310, 258, 300, 283, 316, 284, 298, 310, 0, 0, 0, 0, 0, 0, 290, 331, 304, 324, 279, 259, 284, 357, 0, 0, 0, 0, 500, 296, 315, 0, 0, 351, 273, 312, 341, 299, 293, 309, 339, 309, 297, 306, 0, 0, 0, 0, 0, 0, 0, 0, 0, 0, 299, 230, 254, 277, 294, 275, 307, 323, 0, 0, 0, 0, 0, 0, 0, 0, 0, 0, 0, 0, 0, 0, 0, 0, 0, 0, 0, 0, 0, 0, 0, 0, 0, 0, 0, 0, 0, 0]</pre>"
   ]
  },
  {
   "cell_type": "markdown",
   "metadata": {},
   "source": [
    "The same process is applied to the spoligotypes_vitro."
   ]
  },
  {
   "cell_type": "markdown",
   "metadata": {},
   "source": [
    "<pre style=\"background-color:#b8b894\">spoligo_vitro: ■□□■■■■□□□□□■■■■■■■■□□□□■■■□□■■■■■■■□□□■■■■\n",
    "\n",
    "spoligo_vitro_nb: [(327, 314), (0, 0), (0, 0), (303, 302), (360, 353), (332, 310), (342, 334), (0, 0), (0, 0), (0, 0), (0, 0), (0, 0), (346, 334), (357, 359), (345, 336), (345, 354), (310, 301), (291, 287), (297, 327), (391, 382), (0, 0), (0, 0), (0, 0), (0, 0), (500, 500), (332, 321), (346, 362), (0, 0), (0, 0), (377, 371), (312, 297), (338, 356), (401, 364), (343, 341), (329, 339), (368, 363), (0, 0), (0, 0), (0, 0), (269, 270), (289, 270), (331, 305), (333, 327)]\n",
    "\n",
    "spoligo_vitro_new: ■■□□■■■■■■■■■■■■□□□□□□■■□■■■■■□□□□■■■□□■■■■■■■■■■■□□□□□□□□□□■■■■■■■■□□□□□□□□□□□□□□□□□□□□□□□□□□□□□□\n",
    "\n",
    "spoligo_vitro_new_nb: [(347, 325), (327, 314), (0, 0), (0, 0), (298, 280), (338, 353), (396, 396), (375, 355), (351, 335), (288, 285), (329, 329), (303, 302), (360, 353), (332, 310), (342, 334), (344, 329), (0, 0), (0, 0), (0, 0), (0, 0), (0, 0), (0, 0), (346, 334), (357, 359), (0, 301), (345, 354), (310, 301), (291, 287), (297, 327), (391, 382), (0, 0), (0, 0), (0, 0), (0, 0), (500, 500), (332, 321), (346, 362), (0, 0), (0, 0), (377, 371), (312, 297), (338, 356), (401, 364), (343, 341), (341, 326), (329, 339), (368, 363), (341, 337), (338, 337), (362, 338), (0, 0), (0, 0), (0, 0), (0, 0), (0, 0), (0, 0), (0, 0), (0, 0), (0, 0), (0, 0), (336, 338), (269, 270), (289, 270), (331, 305), (332, 327), (313, 293), (322, 335), (347, 371), (0, 0), (0, 0), (0, 0), (0, 0), (0, 0), (0, 0), (0, 0), (0, 0), (0, 0), (0, 0), (0, 0), (0, 0), (0, 0), (0, 0), (0, 0), (0, 0), (300, 0), (0, 0), (0, 0), (0, 0), (0, 0), (0, 0), (0, 0), (0, 0), (0, 0), (0, 0), (0, 0), (0, 0), (0, 0), (0, 0)]</pre>"
   ]
  },
  {
   "cell_type": "markdown",
   "metadata": {},
   "source": [
    "Finally, the lineage is defined by comparing the blast files with the different lineages L6+animal, PGG, PGG-cp, Coll, Pali, Shitikov and Stucki. "
   ]
  },
  {
   "cell_type": "code",
   "execution_count": null,
   "metadata": {},
   "outputs": [],
   "source": [
    "if 'lineage_Pali' not in dico_afr[item]:\n",
    "    lignee = []\n",
    "    Lignee_SNP = to_reads('Pali', H37RV)\n",
    "    print(\"We're adding the lineage according to the SNPs Pali\")\n",
    "\n",
    "    for item2, pos0 in enumerate(Lignee_SNP):\n",
    "        seq1, seq2 = Lignee_SNP[pos0][:2]\n",
    "\n",
    "        p_blast = str(PurePath('/tmp/snp_Pali.blast'))\n",
    "        with open(P_FASTA, 'w') as f:\n",
    "            f.write('>\\n' + seq2)\n",
    "        cmd = \"blastn -query \" + P_FASTA + \" -num_threads 12 -evalue 1e-5 -task blastn -db \" + repitem + \" -outfmt '10 sseq' -out \" + p_blast\n",
    "        system(cmd)\n",
    "        \n",
    "        with open(p_blast) as f:\n",
    "            formatted_results = f.read().splitlines()\n",
    "\n",
    "        nb_seq1 = to_nb_seq(seq1, formatted_results, 16, 20, 21, 25)\n",
    "        nb_seq2 = to_nb_seq(seq2, formatted_results, 16, 20, 21, 25)\n",
    "\n",
    "        if nb_seq2 > nb_seq1:\n",
    "            lignee.append(Lignee_SNP[pos0][2])\n",
    "\n",
    "    lignee = [u for u in sorted(set(lignee))]\n",
    "\n",
    "    dico_afr[item]['lineage_Pali'] = lignee"
   ]
  },
  {
   "cell_type": "markdown",
   "metadata": {},
   "source": [
    "<pre style=\"background-color:#b8b894\">lineage_L6+animal: 1\n",
    "lineage_PGG_cp: ['1', 'X']\n",
    "lineage_PGG: X\n",
    "lineage_Coll: ['4', '4.9', '5']\n",
    "lineage_Pali: ['1']\n",
    "lineage_Shitikov: []\n",
    "Lignee_Stucki: ['4.10']</pre>"
   ]
  },
  {
   "cell_type": "code",
   "execution_count": null,
   "metadata": {},
   "outputs": [],
   "source": []
  },
  {
   "cell_type": "code",
   "execution_count": null,
   "metadata": {},
   "outputs": [],
   "source": []
  },
  {
   "cell_type": "code",
   "execution_count": null,
   "metadata": {},
   "outputs": [],
   "source": []
  },
  {
   "cell_type": "markdown",
   "metadata": {},
   "source": []
  },
  {
   "cell_type": "raw",
   "metadata": {},
   "source": []
  },
  {
   "cell_type": "raw",
   "metadata": {},
   "source": [
    "wwb = open_workbook('../data/Coll_62_SNPs_(copie).xlsx')\n",
    "wws = wwb.sheet_by_index(0)\n",
    "\n",
    "for row in range(1, wws.nrows):\n",
    "\n",
    "    chaine = str(wws.cell_value(row, 0)).lstrip('lineage').replace('*', '')\n",
    "    chaine = chaine.strip() + ','\n",
    "    for i in range(1, 17):\n",
    "        chaine += str(wws.cell_value(row, i)).replace('.0', '').strip()+','\n",
    "        liste_SRA = chaine.strip().split(',')\n",
    "    with open('lineage.csv', 'a', newline='') as file:\n",
    "        c = csv.writer(file, delimiter=',', quotechar='\"',\n",
    "                       quoting=csv.QUOTE_MINIMAL)\n",
    "        c.writerow(liste_SRA)\n",
    "\n",
    "with open('lineage.csv', 'r', newline='') as f:\n",
    "    spreader = csv.reader(f, delimiter=',', quotechar='\"')\n",
    "    for row in spreader:\n",
    "        print(', '.join(row))\n",
    "        "
   ]
  },
  {
   "cell_type": "raw",
   "metadata": {},
   "source": [
    "Pour transformer xlsx en csv"
   ]
  },
  {
   "cell_type": "raw",
   "metadata": {},
   "source": []
  },
  {
   "cell_type": "code",
   "execution_count": null,
   "metadata": {},
   "outputs": [],
   "source": []
  }
 ],
 "metadata": {
  "celltoolbar": "Aucun(e)",
  "kernelspec": {
   "display_name": "Python 3",
   "language": "python",
   "name": "python3"
  },
  "language_info": {
   "codemirror_mode": {
    "name": "ipython",
    "version": 3
   },
   "file_extension": ".py",
   "mimetype": "text/x-python",
   "name": "python",
   "nbconvert_exporter": "python",
   "pygments_lexer": "ipython3",
   "version": "3.6.5"
  }
 },
 "nbformat": 4,
 "nbformat_minor": 4
}
