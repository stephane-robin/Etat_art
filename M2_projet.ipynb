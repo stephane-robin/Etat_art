{
 "cells": [
  {
   "cell_type": "markdown",
   "metadata": {},
   "source": [
    "<img src=\"femto.png\" alt=\"femto\" align=\"left\"/>\n",
    "<h1 style=\"text-align:right\">CRISPRbuilder-TB</h1>"
   ]
  },
  {
   "cell_type": "markdown",
   "metadata": {},
   "source": [
    "<p><br/><br/></p>"
   ]
  },
  {
   "cell_type": "markdown",
   "metadata": {},
   "source": [
    "The CRISPRbuilder-TB package is an open source software made available under generous terms. Please see the LICENSE file for further details.\n",
    "\n",
    "If you use CRISPRbuilder-TB in work contributing to a scientific publication, we ask that you cite the following application note: Université de Franche Comté TODO<br/>"
   ]
  },
  {
   "cell_type": "markdown",
   "metadata": {},
   "source": [
    "<h2 style=\"color:blue\"> What should CRIPSPRbuilder-TB be used for ?</h2>"
   ]
  },
  {
   "cell_type": "markdown",
   "metadata": {},
   "source": [
    "TODO"
   ]
  },
  {
   "cell_type": "markdown",
   "metadata": {},
   "source": [
    "<h2 style=\"color:blue\">How to install the package ?</h2>"
   ]
  },
  {
   "cell_type": "markdown",
   "metadata": {},
   "source": [
    "This package comes with a Command Line Interface, so it should be installed and executed using your terminal."
   ]
  },
  {
   "cell_type": "markdown",
   "metadata": {},
   "source": [
    "### For Linux"
   ]
  },
  {
   "cell_type": "markdown",
   "metadata": {},
   "source": [
    "From your terminal, you should write the following command lines:"
   ]
  },
  {
   "cell_type": "markdown",
   "metadata": {},
   "source": [
    "<pre style=\"background-color:#ffdd99 ; color:#804000\">pip3 install CRISPRbuilder-TB</pre>"
   ]
  },
  {
   "cell_type": "markdown",
   "metadata": {},
   "source": [
    "### For MacOS"
   ]
  },
  {
   "cell_type": "markdown",
   "metadata": {},
   "source": [
    "TODO"
   ]
  },
  {
   "cell_type": "markdown",
   "metadata": {},
   "source": [
    "### For Windows"
   ]
  },
  {
   "cell_type": "markdown",
   "metadata": {},
   "source": [
    "TODO"
   ]
  },
  {
   "cell_type": "markdown",
   "metadata": {},
   "source": [
    "<h2 style=\"color:blue\">How to use the Command Line Interface ?</h2>"
   ]
  },
  {
   "cell_type": "markdown",
   "metadata": {},
   "source": [
    "After installing the package (see section above), you'll find with the --help command the different options available, such as --collect, --list, --add, --print, --remove, `--change`."
   ]
  },
  {
   "cell_type": "markdown",
   "metadata": {},
   "source": [
    "<pre style=\"background-color:#ffdd99 ; color:#804000\">python3 main.py --help\n",
    "usage: CRISPRbuilder-TB [-h] [--collect] [--list] [--add] [--remove] [--change] [--print] sra\n",
    "\n",
    "Collects and annotates Mycobacterium tuberculosis data for CRISPR investigation.\n",
    "\n",
    "positional arguments:\n",
    "  sra         requires the reference of a SRA, the path to a file of SRA references or 0. See doc.\n",
    "\n",
    "optional arguments:\n",
    "  -h, --help  show this help message and exit\n",
    "  --collect   collects the reference of a SRA to get information about this SRA. See doc.\n",
    "  --list      collects the path to a file of SRA references to get information about. See doc.\n",
    "  --add       collects data to add to the file data/lineage.csv. Requires 0 as argument. See doc.\n",
    "  --remove    removes data from the file data/lineage.csv. Requires 0 as argument. See doc.\n",
    "  --change    collects data to update the file data/lineage.csv. Requires 0 as argument. See doc.\n",
    "  --print     prints the file data/lineage.csv. Requires 0 as argument. See doc.\n",
    "</pre>"
   ]
  },
  {
   "cell_type": "markdown",
   "metadata": {},
   "source": [
    "<h3>Execute CRISPRbuilder-TB with a SRA reference</h3>"
   ]
  },
  {
   "cell_type": "markdown",
   "metadata": {},
   "source": [
    "You can run the package if you wish to find information regarding a specific SRA, using the following command line :"
   ]
  },
  {
   "cell_type": "markdown",
   "metadata": {},
   "source": [
    "<pre style=\"background-color:#ffdd99 ; color:#804000\">python3 main.py --collect {SRA_reference}</pre>"
   ]
  },
  {
   "cell_type": "markdown",
   "metadata": {},
   "source": [
    "This package uses the included version 3.6.4 of Python, which is why it is necessary to precise python3 in the command line, in case the default version on your computer would be 2.7."
   ]
  },
  {
   "cell_type": "markdown",
   "metadata": {},
   "source": [
    "Exemple: to find information about SRR8368696"
   ]
  },
  {
   "cell_type": "markdown",
   "metadata": {},
   "source": [
    "<pre style=\"background-color:#ffdd99 ; color:#804000\">python3 main.py --collect SRR8368696</pre>"
   ]
  },
  {
   "cell_type": "markdown",
   "metadata": {},
   "source": [
    "<h3>Execute CRISPRbuilder-TB with a list of SRA references</h3>"
   ]
  },
  {
   "cell_type": "markdown",
   "metadata": {},
   "source": [
    "To run the package with a list of SRA references, this list must be composed of one SRA reference per line in a .txt format file. Then, if you wish to find information regarding a list of specific SRAs, you may use the following command line :"
   ]
  },
  {
   "cell_type": "markdown",
   "metadata": {},
   "source": [
    "<pre style=\"background-color:#ffdd99 ; color:#804000\">python3 main.py --list {path_to_the_file}</pre>"
   ]
  },
  {
   "cell_type": "markdown",
   "metadata": {},
   "source": [
    "Exemple: to find information about the different SRA included in the file <em>my_file.txt</em> from the <em>Documents</em> directory."
   ]
  },
  {
   "cell_type": "markdown",
   "metadata": {},
   "source": [
    "<pre style=\"background-color:#ffdd99 ; color:#804000\">python3 main.py --list /Documents/my_file.txt</pre>"
   ]
  },
  {
   "cell_type": "markdown",
   "metadata": {},
   "source": [
    "<h3>Print the database lineage.csv</h3>"
   ]
  },
  {
   "cell_type": "markdown",
   "metadata": {},
   "source": [
    "<pre style=\"background-color:#ffdd99 ; color:#804000\">python3 main.py --print 0</pre>"
   ]
  },
  {
   "cell_type": "markdown",
   "metadata": {},
   "source": [
    "Caution: it is necessary to add the 0 after --print.\n",
    "\n",
    "You will then find a display such as the following:"
   ]
  },
  {
   "cell_type": "markdown",
   "metadata": {},
   "source": [
    "<pre style=\"background-color:#ffdd99 ; color:#804000\">lineage, Position, Gene coord., Allele change, Codon number, Codon change, Amino acid change, Locus Id, Gene name, Gene type, Type of mutation, 5' gene, 3' gene, Strand, Sublineage surname, Essential, Origin,\n",
    "4.1.1, 3798451, , C/G, , GGG/GGC, G/G, Rv3383c, idsB, non essential, syn, 3797437, 398489, -, X, , Stucki et al.,\n",
    "4.1.2, 3013784, , C/G, , GTC/CTC, V/L, Rv2697c, dut, ess, non-syn, 3013683, 3014147, -, Haarlem, , Stucki et al.,\n",
    "4.1.3, 4409231, , T/G, , GAG/GCG, E/A, Rv3921c, -, ess, 4280033, 4408969, 4410069, -, Ghana, , Stucki et al.,\n",
    "4.2, 2181026, , G/C, , CCC/CCG, P/P, Rv1928c, , non essential, syn, 2180450, 2181217, -, -, , Stucki et al., \n",
    "4.3, 1480024, , G/T, , TTC/TTA, F/L, Rv1318c, , non essential, non-syn, 1479199, 1480824, -, LAM, , Stucki et al.,\n",
    "4.4, 3966059, , G/C, , ACG/AGG, T/R, Rv3529c, -, non essential, non-syn, 3965884, 3967038, -, -, , Stucki et al.,</pre>"
   ]
  },
  {
   "cell_type": "markdown",
   "metadata": {},
   "source": [
    "<h3>Add a record to lineage.csv</h3>"
   ]
  },
  {
   "cell_type": "markdown",
   "metadata": {},
   "source": [
    "<pre style=\"background-color:#ffdd99 ; color:#804000\">python3 main.py --add 0</pre>"
   ]
  },
  {
   "cell_type": "markdown",
   "metadata": {},
   "source": [
    "Caution: it is necessary to add the 0 after --add.\n",
    "\n",
    "You will then be asked the values of the different fields: lineage, position, gene coordinates, allege change, codon number, codon change, amino acide change, locus ID, gene name, gene type, type of mutation, 5' gene, 3' gene, strand, sublineage surname, essential, origin of the study. In case you don't know the value of a particular field, just press enter."
   ]
  },
  {
   "cell_type": "markdown",
   "metadata": {},
   "source": [
    "<h3>Remove a record from lineage.csv</h3>"
   ]
  },
  {
   "cell_type": "markdown",
   "metadata": {},
   "source": [
    "<pre style=\"background-color:#ffdd99 ; color:#804000\">python3 main.py --remove 0</pre>"
   ]
  },
  {
   "cell_type": "markdown",
   "metadata": {},
   "source": [
    "Caution: it is necessary to add the 0 after --remove.\n",
    "\n",
    "You will then be asked the reference of the line you wish to delete, which consists of the lineage and the position (see below)."
   ]
  },
  {
   "cell_type": "markdown",
   "metadata": {},
   "source": [
    "<pre style=\"background-color:#ffdd99 ; color:#804000\">lineage, Position, Gene coord., Allele change, Codon number, Codon change, Amino acid change, Locus Id, Gene name, Gene type, Type of mutation, 5' gene, 3' gene, Strand, Sublineage surname, Essential, Origin,\n",
    "4.1.1, 3798451, , C/G, , GGG/GGC, G/G, Rv3383c, idsB, non essential, syn, 3797437, 398489, -, X, , Stucki et al.,\n",
    "4.1.2, 3013784, , C/G, , GTC/CTC, V/L, Rv2697c, dut, ess, non-syn, 3013683, 3014147, -, Haarlem, , Stucki et al.,\n",
    "4.1.3, 4409231, , T/G, , GAG/GCG, E/A, Rv3921c, -, ess, 4280033, 4408969, 4410069, -, Ghana, , Stucki et al.,\n",
    "4.2, 2181026, , G/C, , CCC/CCG, P/P, Rv1928c, , non essential, syn, 2180450, 2181217, -, -, , Stucki et al., \n",
    "4.3, 1480024, , G/T, , TTC/TTA, F/L, Rv1318c, , non essential, non-syn, 1479199, 1480824, -, LAM, , Stucki et al.,\n",
    "4.4, 3966059, , G/C, , ACG/AGG, T/R, Rv3529c, -, non essential, non-syn, 3965884, 3967038, -, -, , Stucki et al.,</pre>"
   ]
  },
  {
   "cell_type": "markdown",
   "metadata": {},
   "source": [
    "<h3>Change a record from lineage.csv</h3>"
   ]
  },
  {
   "cell_type": "markdown",
   "metadata": {},
   "source": [
    "<pre style=\"background-color:#ffdd99 ; color:#804000\">python3 main.py --change 0</pre>"
   ]
  },
  {
   "cell_type": "markdown",
   "metadata": {},
   "source": [
    "Caution: it is necessary to add the 0 after --change.\n",
    "\n",
    "You will then be asked the reference of the line you wish to delete, which consists of the lineage and the position (see below)."
   ]
  },
  {
   "cell_type": "markdown",
   "metadata": {},
   "source": [
    "<pre style=\"background-color:#ffdd99 ; color:#804000\">lineage, Position, Gene coord., Allele change, Codon number, Codon change, Amino acid change, Locus Id, Gene name, Gene type, Type of mutation, 5' gene, 3' gene, Strand, Sublineage surname, Essential, Origin,\n",
    "4.1.1, 3798451, , C/G, , GGG/GGC, G/G, Rv3383c, idsB, non essential, syn, 3797437, 398489, -, X, , Stucki et al.,\n",
    "4.1.2, 3013784, , C/G, , GTC/CTC, V/L, Rv2697c, dut, ess, non-syn, 3013683, 3014147, -, Haarlem, , Stucki et al.,\n",
    "4.1.3, 4409231, , T/G, , GAG/GCG, E/A, Rv3921c, -, ess, 4280033, 4408969, 4410069, -, Ghana, , Stucki et al.,\n",
    "4.2, 2181026, , G/C, , CCC/CCG, P/P, Rv1928c, , non essential, syn, 2180450, 2181217, -, -, , Stucki et al., \n",
    "4.3, 1480024, , G/T, , TTC/TTA, F/L, Rv1318c, , non essential, non-syn, 1479199, 1480824, -, LAM, , Stucki et al.,\n",
    "4.4, 3966059, , G/C, , ACG/AGG, T/R, Rv3529c, -, non essential, non-syn, 3965884, 3967038, -, -, , Stucki et al.,</pre>"
   ]
  },
  {
   "cell_type": "markdown",
   "metadata": {},
   "source": [
    "You will then be asked the values of the different fields: lineage, position, gene coordinates, allege change, codon number, codon change, amino acide change, locus ID, gene name, gene type, type of mutation, 5' gene, 3' gene, strand, sublineage surname, essential, origin of the study. In case you don't know the value of a particular field, just press enter."
   ]
  },
  {
   "cell_type": "markdown",
   "metadata": {},
   "source": [
    "<h2 style=\"color:blue\">Composition of the package and dependencies</h2>"
   ]
  },
  {
   "cell_type": "markdown",
   "metadata": {},
   "source": [
    "CRISPRbuilder-TB needs the following dependencies to work:\n",
    "<ul>\n",
    "    <li>python = \"^3.7\"</li>\n",
    "    <li>xlrd = \"^1.2.0\"</li>\n",
    "    <li>openpyxl = \"^3.0.3\"</li>\n",
    "    <li>xmltodict = \"^0.12.0\"</li>\n",
    "    <li>biopython = \"^1.76\"</li>\n",
    "    <li>datetime = \"^4.3\"</li>\n",
    "</ul>\n",
    "These different versions are automatically downloaded when installing the CRISPRbuilder-TB package.\n",
    "\n",
    "necessary to install parallel-fastq-dump and blastn+, do not install subprocess.run, use the original one."
   ]
  },
  {
   "cell_type": "markdown",
   "metadata": {},
   "source": [
    "The README.md file explains how to install the package for those who need just the essential.<br/>\n",
    "The NEWS file summarises the changes in each release of the package.<br/>\n",
    "The main.py file contains the actual code for the package.<br/>\n",
    "The data directory contains the necessary database to compare with the SRA reference when the code is executed.<br/>\n",
    "The sequences directory contains the different result database for each execution of the code. That's typically where you can find fasta format files regarding a specific SRA you've asked for."
   ]
  },
  {
   "cell_type": "markdown",
   "metadata": {},
   "source": [
    "<h2 style=\"color:blue\">Retrieving the genome information dictionary</h2>"
   ]
  },
  {
   "cell_type": "markdown",
   "metadata": {},
   "source": [
    "<h2 style=\"color:blue\">Break down of the code</h2>"
   ]
  },
  {
   "cell_type": "markdown",
   "metadata": {},
   "source": [
    "Let's take an exemple to describe the different parts of the code.<br/> Suppose you're looking for information regarding SRR8368696. After you write python3 main.py --collect SRR3668696 on the terminal, you'll receive the following information :"
   ]
  },
  {
   "cell_type": "code",
   "execution_count": 1,
   "metadata": {},
   "outputs": [
    {
     "ename": "ModuleNotFoundError",
     "evalue": "No module named 'xmltodict'",
     "output_type": "error",
     "traceback": [
      "\u001b[0;31m---------------------------------------------------------------------------\u001b[0m",
      "\u001b[0;31mModuleNotFoundError\u001b[0m                       Traceback (most recent call last)",
      "\u001b[0;32m<ipython-input-1-7931f534a85b>\u001b[0m in \u001b[0;36m<module>\u001b[0;34m\u001b[0m\n\u001b[0;32m----> 1\u001b[0;31m \u001b[0;32mimport\u001b[0m \u001b[0mxmltodict\u001b[0m\u001b[0;34m\u001b[0m\u001b[0;34m\u001b[0m\u001b[0m\n\u001b[0m\u001b[1;32m      2\u001b[0m \u001b[0mprint\u001b[0m\u001b[0;34m(\u001b[0m\u001b[0;34m'ok'\u001b[0m\u001b[0;34m)\u001b[0m\u001b[0;34m\u001b[0m\u001b[0;34m\u001b[0m\u001b[0m\n",
      "\u001b[0;31mModuleNotFoundError\u001b[0m: No module named 'xmltodict'"
     ]
    }
   ],
   "source": [
    "import xmltodict\n",
    "print('ok')"
   ]
  },
  {
   "cell_type": "markdown",
   "metadata": {},
   "source": [
    "The dico_afr dictionary can be represented like this :"
   ]
  },
  {
   "cell_type": "raw",
   "metadata": {},
   "source": [
    "{\n",
    "    srr1? : \n",
    "    {\n",
    "        'accession' : a_value,\n",
    "        'location' : a_value,\n",
    "        'date' : a_value,\n",
    "        'SRA' : a_value,\n",
    "        'center' : a_value,\n",
    "        'strain' : a_value,\n",
    "        'SIT' : ,\n",
    "        'spoligo' : ,\n",
    "        'spoligo_new' : ,\n",
    "        'lineage_Coll' : ,\n",
    "        'IS6110' : ,\n",
    "        'taxid' : a_value,\n",
    "        'name' : a_value,\n",
    "        'desc' : a_value,\n",
    "        'title' : a_value\n",
    "    },\n",
    "    srr2? : \n",
    "    {\n",
    "        'accession' : a_value,\n",
    "        'location' : a_value,\n",
    "        'date' : a_value,\n",
    "        'SRA' : a_value,\n",
    "        'center' : a_value,\n",
    "        'strain' : a_value,\n",
    "        'SIT' : ,\n",
    "        'spoligo' : ,\n",
    "        'spoligo_new' : ,\n",
    "        'lineage_Coll' : ,\n",
    "        'IS6110' : ,\n",
    "        'taxid' : a_value,\n",
    "        'name' : a_value\n",
    "        'desc' : a_value,\n",
    "        'title' : a_value\n",
    "    }\n",
    "}\n"
   ]
  },
  {
   "cell_type": "raw",
   "metadata": {},
   "source": [
    "wwb = open_workbook('../data/Coll_62_SNPs_(copie).xlsx')\n",
    "wws = wwb.sheet_by_index(0)\n",
    "\n",
    "for row in range(1, wws.nrows):\n",
    "\n",
    "    chaine = str(wws.cell_value(row, 0)).lstrip('lineage').replace('*', '')\n",
    "    chaine = chaine.strip() + ','\n",
    "    for i in range(1, 17):\n",
    "        chaine += str(wws.cell_value(row, i)).replace('.0', '').strip()+','\n",
    "        liste_SRA = chaine.strip().split(',')\n",
    "    with open('lineage.csv', 'a', newline='') as file:\n",
    "        c = csv.writer(file, delimiter=',', quotechar='\"',\n",
    "                       quoting=csv.QUOTE_MINIMAL)\n",
    "        c.writerow(liste_SRA)\n",
    "\n",
    "with open('lineage.csv', 'r', newline='') as f:\n",
    "    spreader = csv.reader(f, delimiter=',', quotechar='\"')\n",
    "    for row in spreader:\n",
    "        print(', '.join(row))\n",
    "        "
   ]
  },
  {
   "cell_type": "raw",
   "metadata": {},
   "source": [
    "Pour transformer xlsx en csv"
   ]
  },
  {
   "cell_type": "raw",
   "metadata": {},
   "source": []
  },
  {
   "cell_type": "code",
   "execution_count": null,
   "metadata": {},
   "outputs": [],
   "source": []
  }
 ],
 "metadata": {
  "celltoolbar": "Format de la Cellule Texte Brut",
  "kernelspec": {
   "display_name": "Python 3",
   "language": "python",
   "name": "python3"
  },
  "language_info": {
   "codemirror_mode": {
    "name": "ipython",
    "version": 3
   },
   "file_extension": ".py",
   "mimetype": "text/x-python",
   "name": "python",
   "nbconvert_exporter": "python",
   "pygments_lexer": "ipython3",
   "version": "3.6.5"
  }
 },
 "nbformat": 4,
 "nbformat_minor": 4
}
